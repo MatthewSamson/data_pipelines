{
 "cells": [
  {
   "cell_type": "markdown",
   "metadata": {},
   "source": [
    "# Loading up the required data:"
   ]
  },
  {
   "cell_type": "code",
   "execution_count": 2,
   "metadata": {},
   "outputs": [],
   "source": [
    "import pyspark as pys\n",
    "\n",
    "# using the urls to add files into spark\n",
    "data_sample_url = \"https://raw.githubusercontent.com/EQWorks/ws-data-spark/master/data/DataSample.csv\"\n",
    "poi_list_url = \"https://raw.githubusercontent.com/EQWorks/ws-data-spark/master/data/POIList.csv\"\n",
    "\n",
    "# create an instance of the internal spark engine\n",
    "sc0 = pys.SparkContext()"
   ]
  },
  {
   "cell_type": "code",
   "execution_count": 3,
   "metadata": {},
   "outputs": [],
   "source": [
    "# load the files into spark\n",
    "sc0.addFile(data_sample_url)\n",
    "sc0.addFile(poi_list_url)"
   ]
  },
  {
   "cell_type": "code",
   "execution_count": null,
   "metadata": {},
   "outputs": [],
   "source": []
  },
  {
   "cell_type": "markdown",
   "metadata": {},
   "source": [
    "# Looking at the data:"
   ]
  },
  {
   "cell_type": "code",
   "execution_count": 4,
   "metadata": {},
   "outputs": [
    {
     "name": "stdout",
     "output_type": "stream",
     "text": [
      "root\n",
      " |-- _ID: integer (nullable = true)\n",
      " |--  TimeSt: timestamp (nullable = true)\n",
      " |-- Country: string (nullable = true)\n",
      " |-- Province: string (nullable = true)\n",
      " |-- City: string (nullable = true)\n",
      " |-- Latitude: double (nullable = true)\n",
      " |-- Longitude: double (nullable = true)\n",
      "\n",
      "root\n",
      " |-- POIID: string (nullable = true)\n",
      " |--  Latitude: double (nullable = true)\n",
      " |-- Longitude: double (nullable = true)\n",
      "\n"
     ]
    }
   ],
   "source": [
    "# data manipulation by means of an sql engine instance that connects to the datasets\n",
    "sqlc = pys.sql.SQLContext(sc0)\n",
    "\n",
    "# reading the data from the spark system by using sql dataframes\n",
    "data_sample = sqlc.read.csv(pys.SparkFiles.get(\"DataSample.csv\"), header=True, inferSchema=True)\n",
    "poi_list = sqlc.read.csv(pys.SparkFiles.get(\"POIList.csv\"), header=True, inferSchema=True)\n",
    "\n",
    "# looking at the structure of each dataset\n",
    "data_sample.printSchema()\n",
    "poi_list.printSchema()"
   ]
  },
  {
   "cell_type": "code",
   "execution_count": 5,
   "metadata": {},
   "outputs": [
    {
     "name": "stdout",
     "output_type": "stream",
     "text": [
      "+-------+-----------------------+-------+--------+---------+--------+---------+\n",
      "|_ID    | TimeSt                |Country|Province|City     |Latitude|Longitude|\n",
      "+-------+-----------------------+-------+--------+---------+--------+---------+\n",
      "|4516516|2017-06-21 00:00:00.143|CA     |ON      |Waterloo |43.49347|-80.49123|\n",
      "|4516547|2017-06-21 18:00:00.193|CA     |ON      |London   |42.9399 |-81.2709 |\n",
      "|4516550|2017-06-21 15:00:00.287|CA     |ON      |Guelph   |43.5776 |-80.2201 |\n",
      "|4516600|2017-06-21 15:00:00.307|CA     |ON      |Stratford|43.3716 |-80.9773 |\n",
      "|4516613|2017-06-21 15:00:00.497|CA     |ON      |Stratford|43.3716 |-80.9773 |\n",
      "|4516693|2017-06-21 14:00:00.597|CA     |ON      |Kitchener|43.4381 |-80.5099 |\n",
      "|4516771|2017-06-21 10:00:00.873|CA     |ON      |Sarnia   |42.961  |-82.373  |\n",
      "|4516831|2017-06-21 12:00:00.95 |CA     |ON      |London   |43.0091 |-81.1765 |\n",
      "|4516915|2017-06-21 15:00:01.31 |CA     |ON      |London   |43.0091 |-81.1765 |\n",
      "|4516953|2017-06-21 16:00:01.7  |CA     |ON      |Kitchener|43.4278 |-80.5135 |\n",
      "+-------+-----------------------+-------+--------+---------+--------+---------+\n",
      "only showing top 10 rows\n",
      "\n"
     ]
    }
   ],
   "source": [
    "# viewing DataSample.csv\n",
    "data_sample.show(10, truncate=False)"
   ]
  },
  {
   "cell_type": "code",
   "execution_count": 6,
   "metadata": {},
   "outputs": [
    {
     "name": "stdout",
     "output_type": "stream",
     "text": [
      "+-----+---------+-----------+\n",
      "|POIID| Latitude|Longitude  |\n",
      "+-----+---------+-----------+\n",
      "|POI1 |53.546167|-113.485734|\n",
      "|POI2 |53.546167|-113.485734|\n",
      "+-----+---------+-----------+\n",
      "only showing top 2 rows\n",
      "\n"
     ]
    }
   ],
   "source": [
    "# viewing POIList.csv\n",
    "poi_list.show(2, truncate=False)"
   ]
  },
  {
   "cell_type": "code",
   "execution_count": 7,
   "metadata": {},
   "outputs": [
    {
     "name": "stdout",
     "output_type": "stream",
     "text": [
      "(22025, 7)\n",
      "(4, 3)\n"
     ]
    }
   ],
   "source": [
    "# looking at the shape of the datasets\n",
    "def pyspark_shape(self):\n",
    "    return (self.count(), len(self.columns))\n",
    "\n",
    "print(pyspark_shape(data_sample))\n",
    "print(pyspark_shape(poi_list))"
   ]
  },
  {
   "cell_type": "code",
   "execution_count": null,
   "metadata": {},
   "outputs": [],
   "source": []
  },
  {
   "cell_type": "markdown",
   "metadata": {},
   "source": [
    "# Cleaning the data"
   ]
  },
  {
   "cell_type": "code",
   "execution_count": null,
   "metadata": {},
   "outputs": [],
   "source": [
    "'''\n",
    "task 1: cleaning the data:\n",
    "\n",
    "!! the data is cleaned by removing rows that have repeated timest, latitude and longitude data !!\n",
    "\n",
    "1a: filtering out common timest data\n",
    "\n",
    "1b: filtering out common geospatial data\n",
    "    - latitude\n",
    "    - longitude\n",
    "    \n",
    "'''"
   ]
  },
  {
   "cell_type": "code",
   "execution_count": null,
   "metadata": {},
   "outputs": [],
   "source": [
    "'''\n",
    "# cleaning each feature separately\n",
    "\n",
    "clean_tim = data_sample.select(\" TimeSt\").distinct().collect()\n",
    "print(len(clean_tim))\n",
    "\n",
    "clean_lat = data_sample.select(\"Latitude\").distinct().collect()\n",
    "print(len(clean_lat))\n",
    "\n",
    "clean_lon = data_sample.select(\"Latitude\", \"Longitude\").distinct().collect()\n",
    "len(clean_lon)\n",
    "'''"
   ]
  },
  {
   "cell_type": "code",
   "execution_count": null,
   "metadata": {},
   "outputs": [],
   "source": [
    "'''# function to filter a dataset\n",
    "def apply_filter(the_rdd, filter_features):\n",
    "    # the_rdd: the spark dataframe to be used\n",
    "    # filter_features: the features that the_rdd will be filtered on\n",
    "    \n",
    "    # get the unique data based on specific features in the dataset\n",
    "    filtered = the_rdd.select(filter_features).distinct().collect()\n",
    "    print(\"No. of columns after filter: \", len(cleaned))\n",
    "    return cleaned\n",
    "\n",
    "# function to clean the data based on the applied filter\n",
    "def cleaned_filter(the_rdd, the_cleaned):\n",
    "    # the_rdd: the spark dataframe to be used\n",
    "    # the_cleaned: the clean data from the apply_filter function\n",
    "    \n",
    "    # using the unique data to filter out the rows that are not needed\n",
    "    filtered = []\n",
    "\n",
    "    # !! the following process takes way too long for large datasets !!\n",
    "    # it is important to parallelize here\n",
    "    for i in range(len(the_cleaned)):\n",
    "        cond_f1 = data_sample[\" TimeSt\"] == clean00[i][0]\n",
    "        cond_f2 = data_sample[\"Latitude\"] == clean00[i][1]\n",
    "        cond_f3 = data_sample[\"Longitude\"] == clean00[i][2]\n",
    "\n",
    "        filter_row = data_sample.where(cond_f1 & cond_f2 & cond_f3)\n",
    "        collect_row = filter_row.collect()\n",
    "        filtered.extend(collect_row)\n",
    "        #print(\"Done\", i)'''"
   ]
  },
  {
   "cell_type": "code",
   "execution_count": 8,
   "metadata": {},
   "outputs": [
    {
     "name": "stdout",
     "output_type": "stream",
     "text": [
      "No. of columns left:  19999\n"
     ]
    },
    {
     "data": {
      "text/plain": [
       "[Row( TimeSt=datetime.datetime(2017, 6, 21, 8, 0, 4, 167000), Latitude=42.9399, Longitude=-81.2709),\n",
       " Row( TimeSt=datetime.datetime(2017, 6, 21, 3, 0, 58, 987000), Latitude=45.5047, Longitude=-73.5558),\n",
       " Row( TimeSt=datetime.datetime(2017, 6, 21, 7, 1, 29, 463000), Latitude=43.5776, Longitude=-80.2201),\n",
       " Row( TimeSt=datetime.datetime(2017, 6, 21, 10, 1, 49, 470000), Latitude=48.3738, Longitude=-89.2779),\n",
       " Row( TimeSt=datetime.datetime(2017, 6, 21, 20, 2, 8, 320000), Latitude=42.2825, Longitude=-83.0372),\n",
       " Row( TimeSt=datetime.datetime(2017, 6, 21, 7, 2, 13, 50000), Latitude=53.4044, Longitude=-113.5237),\n",
       " Row( TimeSt=datetime.datetime(2017, 6, 21, 22, 5, 25, 173000), Latitude=45.5771, Longitude=-73.6873),\n",
       " Row( TimeSt=datetime.datetime(2017, 6, 21, 15, 5, 26, 280000), Latitude=53.55, Longitude=-113.1333),\n",
       " Row( TimeSt=datetime.datetime(2017, 6, 21, 19, 6, 11, 287000), Latitude=51.04938, Longitude=-113.94482),\n",
       " Row( TimeSt=datetime.datetime(2017, 6, 21, 10, 6, 47, 980000), Latitude=43.6414, Longitude=-79.4151)]"
      ]
     },
     "execution_count": 8,
     "metadata": {},
     "output_type": "execute_result"
    }
   ],
   "source": [
    "# cleaning all required features (timest, latitude and longitude) together\n",
    "# rows that have the repeated timest, latitude and longitude values are filtered out\n",
    "clean00 = data_sample.select(\" TimeSt\", \"Latitude\", \"Longitude\").distinct().collect()\n",
    "print(\"No. of columns left: \", len(clean00))\n",
    "\n",
    "clean00[:10]"
   ]
  },
  {
   "cell_type": "code",
   "execution_count": null,
   "metadata": {},
   "outputs": [],
   "source": [
    "'''\n",
    "# testing the in-bult function\n",
    "\n",
    "# test 1 - using the in-built function\n",
    "clean1 = data_sample.select(\"Latitude\", \"Longitude\").distinct()\n",
    "clean1.count()\n",
    "'''"
   ]
  },
  {
   "cell_type": "code",
   "execution_count": null,
   "metadata": {},
   "outputs": [],
   "source": [
    "'''\n",
    "# test 2 - combining the geospatial data to recheck the distinct function\n",
    "clean2 = data_sample.rdd.map(lambda r: (r.Latitude, r.Longitude)).collect()\n",
    "\n",
    "# geospatial test, applying clean2\n",
    "# clean 2 consists of tuples of latitudes and longitudes\n",
    "geo = []\n",
    "for i in range(len(set2)):\n",
    "    # product is applied to test whether distinct() works on multiple columns simultaneously\n",
    "    ag = set2[i][0] * set2[i][1]\n",
    "    geo.append(ag)\n",
    "    \n",
    "# parallelize the geospatial data\n",
    "scgeo = sc.parallelize(geo)\n",
    "\n",
    "# transform the data into sql form\n",
    "sqlgeo = scgeo.map(lambda x: pys.sql.Row(geospatial=x))\n",
    "\n",
    "# create the sql dataframe\n",
    "dfgeo = sqlc.createDataFrame(sqlgeo)\n",
    "dfgeo.printSchema()\n",
    "'''"
   ]
  },
  {
   "cell_type": "code",
   "execution_count": null,
   "metadata": {},
   "outputs": [],
   "source": [
    "'''\n",
    "# reapplying the distinct function to get the same results\n",
    "clean_geo = dfgeo.select(\"geospatial\").distinct()\n",
    "clean_geo.count()'''"
   ]
  },
  {
   "cell_type": "code",
   "execution_count": 9,
   "metadata": {
    "scrolled": true
   },
   "outputs": [],
   "source": [
    "# using the unique data to filter out the rows that are not needed\n",
    "filtered = []\n",
    "\n",
    "# !! the following process takes way too long !!\n",
    "# it is important to parallelize here\n",
    "for i in range(len(clean00)):\n",
    "    cond_f1 = data_sample[\" TimeSt\"] == clean00[i][0]\n",
    "    cond_f2 = data_sample[\"Latitude\"] == clean00[i][1]\n",
    "    cond_f3 = data_sample[\"Longitude\"] == clean00[i][2]\n",
    "\n",
    "    filter_row = data_sample.where(cond_f1 & cond_f2 & cond_f3)\n",
    "    collect_row = filter_row.collect()\n",
    "    \n",
    "    if len(collect_row) > 1:\n",
    "        filtered.extend(pys.sql.Row(collect_row[0])) \n",
    "    else:\n",
    "        filtered.extend(collect_row)\n",
    "    #print(\"Done\", i)"
   ]
  },
  {
   "cell_type": "code",
   "execution_count": 10,
   "metadata": {},
   "outputs": [
    {
     "data": {
      "text/plain": [
       "[Row(_ID=4518918,  TimeSt=datetime.datetime(2017, 6, 21, 8, 0, 4, 167000), Country='CA', Province='ON', City='London', Latitude=42.9399, Longitude=-81.2709),\n",
       " Row(_ID=4535779,  TimeSt=datetime.datetime(2017, 6, 21, 3, 0, 58, 987000), Country='CA', Province='QC', City='Montréal', Latitude=45.5047, Longitude=-73.5558),\n",
       " Row(_ID=4547425,  TimeSt=datetime.datetime(2017, 6, 21, 7, 1, 29, 463000), Country='CA', Province='ON', City='Guelph', Latitude=43.5776, Longitude=-80.2201),\n",
       " Row(_ID=4561012,  TimeSt=datetime.datetime(2017, 6, 21, 10, 1, 49, 470000), Country='CA', Province='ON', City='Thunder Bay', Latitude=48.3738, Longitude=-89.2779),\n",
       " Row(_ID=4576329,  TimeSt=datetime.datetime(2017, 6, 21, 20, 2, 8, 320000), Country='CA', Province='ON', City='Windsor', Latitude=42.2825, Longitude=-83.0372),\n",
       " Row(_ID=4578136,  TimeSt=datetime.datetime(2017, 6, 21, 7, 2, 13, 50000), Country='CA', Province='AB', City='Edmonton', Latitude=53.4044, Longitude=-113.5237),\n",
       " Row(_ID=4617922,  TimeSt=datetime.datetime(2017, 6, 21, 22, 5, 25, 173000), Country='CA', Province='QC', City='Laval', Latitude=45.5771, Longitude=-73.6873),\n",
       " Row(_ID=4618117,  TimeSt=datetime.datetime(2017, 6, 21, 15, 5, 26, 280000), Country='CA', Province='AB', City='Ardrossan', Latitude=53.55, Longitude=-113.1333),\n",
       " Row(_ID=4630340,  TimeSt=datetime.datetime(2017, 6, 21, 19, 6, 11, 287000), Country='CA', Province='AB', City='Calgary', Latitude=51.04938, Longitude=-113.94482),\n",
       " Row(_ID=4638863,  TimeSt=datetime.datetime(2017, 6, 21, 10, 6, 47, 980000), Country='CA', Province='ON', City='Toronto', Latitude=43.6414, Longitude=-79.4151)]"
      ]
     },
     "execution_count": 10,
     "metadata": {},
     "output_type": "execute_result"
    }
   ],
   "source": [
    "filtered[:10]"
   ]
  },
  {
   "cell_type": "code",
   "execution_count": 11,
   "metadata": {},
   "outputs": [
    {
     "data": {
      "text/plain": [
       "pyspark.sql.dataframe.DataFrame"
      ]
     },
     "execution_count": 11,
     "metadata": {},
     "output_type": "execute_result"
    }
   ],
   "source": [
    "# convert the list of rows into a spark dataframe\n",
    "filtered_data = sqlc.createDataFrame(filtered)\n",
    "type(filtered_data)"
   ]
  },
  {
   "cell_type": "code",
   "execution_count": 12,
   "metadata": {},
   "outputs": [
    {
     "name": "stdout",
     "output_type": "stream",
     "text": [
      "+-------+-----------------------+-------+--------+-----------+--------+----------+\n",
      "|_ID    | TimeSt                |Country|Province|City       |Latitude|Longitude |\n",
      "+-------+-----------------------+-------+--------+-----------+--------+----------+\n",
      "|4518918|2017-06-21 08:00:04.167|CA     |ON      |London     |42.9399 |-81.2709  |\n",
      "|4535779|2017-06-21 03:00:58.987|CA     |QC      |Montréal   |45.5047 |-73.5558  |\n",
      "|4547425|2017-06-21 07:01:29.463|CA     |ON      |Guelph     |43.5776 |-80.2201  |\n",
      "|4561012|2017-06-21 10:01:49.47 |CA     |ON      |Thunder Bay|48.3738 |-89.2779  |\n",
      "|4576329|2017-06-21 20:02:08.32 |CA     |ON      |Windsor    |42.2825 |-83.0372  |\n",
      "|4578136|2017-06-21 07:02:13.05 |CA     |AB      |Edmonton   |53.4044 |-113.5237 |\n",
      "|4617922|2017-06-21 22:05:25.173|CA     |QC      |Laval      |45.5771 |-73.6873  |\n",
      "|4618117|2017-06-21 15:05:26.28 |CA     |AB      |Ardrossan  |53.55   |-113.1333 |\n",
      "|4630340|2017-06-21 19:06:11.287|CA     |AB      |Calgary    |51.04938|-113.94482|\n",
      "|4638863|2017-06-21 10:06:47.98 |CA     |ON      |Toronto    |43.6414 |-79.4151  |\n",
      "+-------+-----------------------+-------+--------+-----------+--------+----------+\n",
      "only showing top 10 rows\n",
      "\n"
     ]
    }
   ],
   "source": [
    "# data cleaning has been completed!!\n",
    "filtered_data.show(10, truncate=False)"
   ]
  },
  {
   "cell_type": "code",
   "execution_count": 13,
   "metadata": {},
   "outputs": [
    {
     "data": {
      "text/plain": [
       "(19999, 7)"
      ]
     },
     "execution_count": 13,
     "metadata": {},
     "output_type": "execute_result"
    }
   ],
   "source": [
    "pyspark_shape(filtered_data)"
   ]
  },
  {
   "cell_type": "markdown",
   "metadata": {},
   "source": [
    "# Label and add it to the data"
   ]
  },
  {
   "cell_type": "code",
   "execution_count": 14,
   "metadata": {},
   "outputs": [
    {
     "name": "stdout",
     "output_type": "stream",
     "text": [
      "+-----+---------+-----------+\n",
      "|POIID| Latitude|Longitude  |\n",
      "+-----+---------+-----------+\n",
      "|POI1 |53.546167|-113.485734|\n",
      "|POI2 |53.546167|-113.485734|\n",
      "|POI3 |45.521629|-73.566024 |\n",
      "|POI4 |45.22483 |-63.232729 |\n",
      "+-----+---------+-----------+\n",
      "\n"
     ]
    }
   ],
   "source": [
    "'''\n",
    "task 2: labeling the data:\n",
    "\n",
    "!! each row is labeled to its closest geospatial point from the POIList.csv file !!\n",
    "\n",
    "'''\n",
    "poi_list.show(4, truncate=False)"
   ]
  },
  {
   "cell_type": "code",
   "execution_count": 15,
   "metadata": {},
   "outputs": [
    {
     "data": {
      "text/plain": [
       "[Row( Latitude=53.546167, Longitude=-113.485734),\n",
       " Row( Latitude=45.22483, Longitude=-63.232729),\n",
       " Row( Latitude=45.521629, Longitude=-73.566024)]"
      ]
     },
     "execution_count": 15,
     "metadata": {},
     "output_type": "execute_result"
    }
   ],
   "source": [
    "# filter out the repeated rows\n",
    "filter_poi = poi_list.select(\" Latitude\", \"Longitude\").distinct().collect()\n",
    "filter_poi"
   ]
  },
  {
   "cell_type": "code",
   "execution_count": 16,
   "metadata": {},
   "outputs": [
    {
     "name": "stdout",
     "output_type": "stream",
     "text": [
      "+-----+---------+-----------+\n",
      "|POIID| Latitude|  Longitude|\n",
      "+-----+---------+-----------+\n",
      "| POI1|53.546167|-113.485734|\n",
      "| POI4| 45.22483| -63.232729|\n",
      "| POI3|45.521629| -73.566024|\n",
      "+-----+---------+-----------+\n",
      "\n"
     ]
    }
   ],
   "source": [
    "# using the unique data obtained to filter out the rows that are not needed\n",
    "filtered_poi = []\n",
    "\n",
    "for i in range(len(filter_poi)):\n",
    "    cond_f1 = poi_list[\" Latitude\"] == filter_poi[i][0]\n",
    "    cond_f2 = poi_list[\"Longitude\"] == filter_poi[i][1]\n",
    "\n",
    "    filter_row = poi_list.where(cond_f1 & cond_f2)\n",
    "    collect_row = filter_row.collect()\n",
    "    \n",
    "    if len(collect_row) > 1:\n",
    "        filtered_poi.extend(pys.sql.Row(collect_row[0]))\n",
    "    else:\n",
    "        filtered_poi.extend(collect_row)\n",
    "    #print(\"Done\", i)\n",
    "    \n",
    "# convert the obtained rows into a spark dataframe\n",
    "filtered_poilist = sqlc.createDataFrame(filtered_poi)\n",
    "filtered_poilist.show()"
   ]
  },
  {
   "cell_type": "code",
   "execution_count": 17,
   "metadata": {},
   "outputs": [],
   "source": [
    "import math as mt\n",
    "\n",
    "# finding the distance between lat/long values\n",
    "def latlong_dist(lat_a, lon_a, lat_b, lon_b):\n",
    "    \n",
    "    # approximate radius of earth in km\n",
    "    R = 6373.0\n",
    "\n",
    "    lat1 = mt.radians(lat_a)\n",
    "    lon1 = mt.radians(lon_a)\n",
    "    lat2 = mt.radians(lat_b)\n",
    "    lon2 = mt.radians(lon_b)\n",
    "\n",
    "    dlon = lon2 - lon1\n",
    "    dlat = lat2 - lat1\n",
    "    \n",
    "    # applying the harvestine distance formula\n",
    "    a = mt.sin(dlat / 2)**2 + mt.cos(lat1) * mt.cos(lat2) * mt.sin(dlon / 2)**2\n",
    "    c = 2 * mt.atan2(mt.sqrt(a), mt.sqrt(1 - a))\n",
    "\n",
    "    result = R * c\n",
    "    \n",
    "    return result"
   ]
  },
  {
   "cell_type": "code",
   "execution_count": 18,
   "metadata": {},
   "outputs": [],
   "source": [
    "# locating the lat/long points that are closest to each sample in the data\n",
    "closest = [] # closest point\n",
    "distance = [] # distance between\n",
    "poi_dist = [] # tuple of (closest point, distance between)\n",
    "\n",
    "for i in range(len(clean00)):\n",
    "    close = \"\"\n",
    "    dist = 99999\n",
    "    pt = 0\n",
    "    \n",
    "    for j in range(len(filtered_poi)):\n",
    "        cur_dist = latlong_dist(clean00[i][\"Latitude\"], clean00[i][\"Longitude\"], \n",
    "                                filtered_poi[j][\" Latitude\"], filtered_poi[j][\"Longitude\"])\n",
    "        if cur_dist < dist:\n",
    "            dist = cur_dist\n",
    "            pt = j\n",
    "            \n",
    "    closest.append(filtered_poi[pt].POIID)\n",
    "    distance.append(dist)\n",
    "    poi_dist.append((filtered_poi[pt].POIID, dist))"
   ]
  },
  {
   "cell_type": "code",
   "execution_count": 19,
   "metadata": {},
   "outputs": [
    {
     "name": "stdout",
     "output_type": "stream",
     "text": [
      "root\n",
      " |-- closest_poi: string (nullable = true)\n",
      " |-- distance_poi: double (nullable = true)\n",
      "\n"
     ]
    }
   ],
   "source": [
    "# adding the poi and distance between poi and current lat/long to the data_sample dataframe\n",
    "\n",
    "# parallelizing the poi and respective distance\n",
    "rdd_poidist = sc0.parallelize(poi_dist)\n",
    "\n",
    "# transform data into sql format\n",
    "sql_poidist = rdd_poidist.map(lambda x: pys.sql.Row(closest_poi=x[0], distance_poi=x[1]))\n",
    "\n",
    "# convert it into a dataframe\n",
    "df_poidist = sqlc.createDataFrame(sql_poidist)\n",
    "\n",
    "df_poidist.printSchema()"
   ]
  },
  {
   "cell_type": "code",
   "execution_count": 20,
   "metadata": {},
   "outputs": [
    {
     "name": "stdout",
     "output_type": "stream",
     "text": [
      "+-----------+------------------+\n",
      "|closest_poi|distance_poi      |\n",
      "+-----------+------------------+\n",
      "|POI3       |677.5222776710535 |\n",
      "|POI3       |2.044693470532338 |\n",
      "|POI3       |569.8265626186267 |\n",
      "|POI3       |1232.0423486497216|\n",
      "|POI3       |839.5027628341965 |\n",
      "|POI1       |15.967765707105233|\n",
      "|POI3       |11.283085758609545|\n",
      "|POI1       |23.2951764835409  |\n",
      "|POI1       |279.4658088664444 |\n",
      "|POI3       |508.22970590022305|\n",
      "+-----------+------------------+\n",
      "only showing top 10 rows\n",
      "\n"
     ]
    }
   ],
   "source": [
    "df_poidist.show(10, truncate=False)"
   ]
  },
  {
   "cell_type": "code",
   "execution_count": 21,
   "metadata": {},
   "outputs": [
    {
     "name": "stdout",
     "output_type": "stream",
     "text": [
      "root\n",
      " |--  TimeSt: timestamp (nullable = true)\n",
      " |-- City: string (nullable = true)\n",
      " |-- Country: string (nullable = true)\n",
      " |-- Latitude: double (nullable = true)\n",
      " |-- Longitude: double (nullable = true)\n",
      " |-- Province: string (nullable = true)\n",
      " |-- _ID: long (nullable = true)\n",
      " |-- closest_poi: string (nullable = true)\n",
      " |-- distance_poi: double (nullable = true)\n",
      "\n"
     ]
    }
   ],
   "source": [
    "# combining the poi and distance results onto the filtered data samples\n",
    "combine_poi = []\n",
    "\n",
    "for i in range(len(filtered)):\n",
    "    # extract a row\n",
    "    cur_sample = filtered[i].asDict()\n",
    "    \n",
    "    # assign the new fields into the row (works as a dictionary)\n",
    "    cur_sample['closest_poi'] = poi_dist[i][0]\n",
    "    cur_sample['distance_poi'] = poi_dist[i][1]\n",
    "    \n",
    "    cur_row = pys.sql.Row(**cur_sample)\n",
    "    #print(cur_row)\n",
    "    combine_poi.append(cur_row)\n",
    "    \n",
    "df_combine_poi = sqlc.createDataFrame(combine_poi)\n",
    "df_combine_poi.printSchema()"
   ]
  },
  {
   "cell_type": "code",
   "execution_count": 22,
   "metadata": {},
   "outputs": [
    {
     "name": "stdout",
     "output_type": "stream",
     "text": [
      "+-----------------------+-----------+-------+--------+----------+--------+-------+-----------+------------------+\n",
      "| TimeSt                |City       |Country|Latitude|Longitude |Province|_ID    |closest_poi|distance_poi      |\n",
      "+-----------------------+-----------+-------+--------+----------+--------+-------+-----------+------------------+\n",
      "|2017-06-21 08:00:04.167|London     |CA     |42.9399 |-81.2709  |ON      |4518918|POI3       |677.5222776710535 |\n",
      "|2017-06-21 03:00:58.987|Montréal   |CA     |45.5047 |-73.5558  |QC      |4535779|POI3       |2.044693470532338 |\n",
      "|2017-06-21 07:01:29.463|Guelph     |CA     |43.5776 |-80.2201  |ON      |4547425|POI3       |569.8265626186267 |\n",
      "|2017-06-21 10:01:49.47 |Thunder Bay|CA     |48.3738 |-89.2779  |ON      |4561012|POI3       |1232.0423486497216|\n",
      "|2017-06-21 20:02:08.32 |Windsor    |CA     |42.2825 |-83.0372  |ON      |4576329|POI3       |839.5027628341965 |\n",
      "|2017-06-21 07:02:13.05 |Edmonton   |CA     |53.4044 |-113.5237 |AB      |4578136|POI1       |15.967765707105233|\n",
      "|2017-06-21 22:05:25.173|Laval      |CA     |45.5771 |-73.6873  |QC      |4617922|POI3       |11.283085758609545|\n",
      "|2017-06-21 15:05:26.28 |Ardrossan  |CA     |53.55   |-113.1333 |AB      |4618117|POI1       |23.2951764835409  |\n",
      "|2017-06-21 19:06:11.287|Calgary    |CA     |51.04938|-113.94482|AB      |4630340|POI1       |279.4658088664444 |\n",
      "|2017-06-21 10:06:47.98 |Toronto    |CA     |43.6414 |-79.4151  |ON      |4638863|POI3       |508.22970590022305|\n",
      "+-----------------------+-----------+-------+--------+----------+--------+-------+-----------+------------------+\n",
      "only showing top 10 rows\n",
      "\n"
     ]
    }
   ],
   "source": [
    "df_combine_poi.show(10, truncate=False)"
   ]
  },
  {
   "cell_type": "code",
   "execution_count": null,
   "metadata": {},
   "outputs": [],
   "source": []
  },
  {
   "cell_type": "markdown",
   "metadata": {},
   "source": [
    "# Analysis and calculation"
   ]
  },
  {
   "cell_type": "code",
   "execution_count": 23,
   "metadata": {},
   "outputs": [],
   "source": [
    "'''\n",
    "task 3: analysis and calculation:\n",
    "\n",
    "3a: calculate the average and standard deviation for each point and their respective poi\n",
    "3b: calculate the radius and density and draw a circle around each poi\n",
    "\n",
    "'''\n",
    "import numpy as np\n",
    "import matplotlib.pyplot as plt"
   ]
  },
  {
   "cell_type": "code",
   "execution_count": 24,
   "metadata": {},
   "outputs": [
    {
     "data": {
      "text/plain": [
       "['POI4', 'POI1', 'POI3']"
      ]
     },
     "execution_count": 24,
     "metadata": {},
     "output_type": "execute_result"
    }
   ],
   "source": [
    "# get unique closest_poi values\n",
    "poi_vals = df_combine_poi.select(\"closest_poi\").distinct().collect()\n",
    "\n",
    "# points in poi\n",
    "poi = []\n",
    "for row in poi_vals:\n",
    "    poi.extend(row.asDict().values())\n",
    "poi"
   ]
  },
  {
   "cell_type": "code",
   "execution_count": 25,
   "metadata": {},
   "outputs": [],
   "source": [
    "set_of_dist = [] # list of distances to each closest poi\n",
    "set_of_total = [] # list of total distances to each closest_poi\n",
    "\n",
    "for pt in poi:\n",
    "    df = df_combine_poi.select(\"distance_poi\").where(df_combine_poi.closest_poi == pt).collect()\n",
    "    tot = np.sum(df)\n",
    "    set_of_dist.append(df)\n",
    "    set_of_total.append(tot)"
   ]
  },
  {
   "cell_type": "code",
   "execution_count": 26,
   "metadata": {},
   "outputs": [
    {
     "data": {
      "text/plain": [
       "({'POI4': 497.4348338241883,\n",
       "  'POI1': 302.00163302299063,\n",
       "  'POI3': 451.6693000102911},\n",
       " {'POI4': 477, 'POI1': 9727, 'POI3': 9795})"
      ]
     },
     "execution_count": 26,
     "metadata": {},
     "output_type": "execute_result"
    }
   ],
   "source": [
    "sums = dict() # dictionary containing all the sum totals of distances of each closest poi\n",
    "no_points = dict() # dictionary containing all the total number of points to each closest poi\n",
    "means = dict() # dictionary containing all the averages of distances to the respective closet poi\n",
    "\n",
    "for i in range(len(set_of_total)):\n",
    "    sums[poi[i]] = set_of_total[i]\n",
    "    no_points[poi[i]] = len(set_of_dist[i])\n",
    "    means[poi[i]] = set_of_total[i] / len(set_of_dist[i])\n",
    "    \n",
    "means, no_points"
   ]
  },
  {
   "cell_type": "code",
   "execution_count": 27,
   "metadata": {},
   "outputs": [
    {
     "data": {
      "text/plain": [
       "({'POI4': 2166356.9445755947,\n",
       "  'POI1': 170187.84592207248,\n",
       "  'POI3': 49911.70092486288},\n",
       " {'POI4': 1471.8549332646865,\n",
       "  'POI1': 412.5382963096547,\n",
       "  'POI3': 223.40926776851242})"
      ]
     },
     "execution_count": 27,
     "metadata": {},
     "output_type": "execute_result"
    }
   ],
   "source": [
    "variances = dict() # dictionary contianing all the variances between each point and their respective poi\n",
    "std_deviations = dict() # dictionary containing all the standard deviations between each point and their respective poi\n",
    "\n",
    "for dists, mean_name, mean_val in zip(set_of_dist, means.keys(), means.values()):\n",
    "    var = 0\n",
    "    for dist in dists:\n",
    "        val = dist.asDict()\n",
    "        var  += ((val['distance_poi'] - mean_val) ** 2)\n",
    "        #print(dist, mean_val)\n",
    "    tot_var = var/len(dists)\n",
    "    #print(var, tot_var)\n",
    "    variances[mean_name] = tot_var\n",
    "    std_deviations[mean_name] = np.sqrt(tot_var)\n",
    "    \n",
    "variances, std_deviations"
   ]
  },
  {
   "cell_type": "code",
   "execution_count": null,
   "metadata": {},
   "outputs": [],
   "source": []
  },
  {
   "cell_type": "code",
   "execution_count": null,
   "metadata": {},
   "outputs": [],
   "source": [
    "'''\n",
    "# attempting to label the extracted and filtered data\n",
    "# PROBLEM HERE: THE FOLLOWING CODE CAUSES THE KERNAL TO DIE FOR SOME REASON\n",
    "# so I had to extract the data from the dataframe\n",
    "\n",
    "plt.scatter(df_combine_poi['Latitude'], df_combine_poi['Longitude'], 'b.')\n",
    "plt.scatter(filtered_poilist[' Latitude'], filtered_poilist['Longitude'], 'b.')\n",
    "plt.show()\n",
    "'''"
   ]
  },
  {
   "cell_type": "code",
   "execution_count": 41,
   "metadata": {},
   "outputs": [],
   "source": [
    "# extract data from spark dataframe to rows to actual data (resulting in dictionarues)\n",
    "\n",
    "# function to return lists of dictionaries from rows from spark dataframes\n",
    "def df_todict(df, features):\n",
    "    # df: spark dataframe to be used\n",
    "    # features: columns to extract from the spark dataframes\n",
    "    \n",
    "    latlong = []\n",
    "    geo = df.select(features).collect()\n",
    "\n",
    "    for pt in geo:\n",
    "        to_dict = pt.asDict()\n",
    "        latlong.append(to_dict)\n",
    "    \n",
    "    return latlong\n",
    "\n",
    "geo_poi = df_todict(filtered_poilist, [\" Latitude\", \"Longitude\"])\n",
    "geo_data = df_todict(df_combine_poi, [\"Latitude\", \"Longitude\"])"
   ]
  },
  {
   "cell_type": "code",
   "execution_count": 60,
   "metadata": {
    "scrolled": true
   },
   "outputs": [
    {
     "data": {
      "image/png": "[encoded data removed]",
      "text/plain": [
       "<Figure size 432x288 with 1 Axes>"
      ]
     },
     "metadata": {
      "needs_background": "light"
     },
     "output_type": "display_data"
    }
   ],
   "source": [
    "plt.xlabel(\"Latitude\")\n",
    "plt.ylabel(\"Longitude\")\n",
    "plt.title(\"Latitude vs Longitude of poi and filtered data\")\n",
    "#plt.axis([40, 55, -125, -50])\n",
    "plt.legend([\"data\", \"poi\"])\n",
    "\n",
    "for pt in geo_data:\n",
    "    geo1, = plt.plot(pt[\"Latitude\"], pt[\"Longitude\"], 'r.', label=\"data\")\n",
    "    \n",
    "for pt in geo_poi:\n",
    "    geo2, = plt.plot(pt[\" Latitude\"], pt[\"Longitude\"], 'bo', label=\"poi\")\n",
    "    \n",
    "plt.legend(handles=[geo1, geo2])\n",
    "plt.show()"
   ]
  },
  {
   "cell_type": "code",
   "execution_count": 61,
   "metadata": {},
   "outputs": [
    {
     "data": {
      "image/png": "[encoded data removed]",
      "text/plain": [
       "<Figure size 432x288 with 1 Axes>"
      ]
     },
     "metadata": {
      "needs_background": "light"
     },
     "output_type": "display_data"
    }
   ],
   "source": [
    "# the above plot shows results with outliers so the visualization is too large!\n",
    "# the second plot shows a more expanded view of the data around each point\n",
    "\n",
    "plt.xlabel(\"Latitude\")\n",
    "plt.ylabel(\"Longitude\")\n",
    "plt.title(\"Latitude vs Longitude of poi and filtered data\")\n",
    "plt.axis([40, 55, -125, -50])\n",
    "plt.legend([\"data\", \"poi\"])\n",
    "\n",
    "for pt in geo_data:\n",
    "    geo1, = plt.plot(pt[\"Latitude\"], pt[\"Longitude\"], 'r.', label=\"data\")\n",
    "    \n",
    "for pt in geo_poi:\n",
    "    geo2, = plt.plot(pt[\" Latitude\"], pt[\"Longitude\"], 'bo', label=\"poi\")\n",
    "    \n",
    "plt.legend(handles=[geo1, geo2])\n",
    "plt.show()"
   ]
  },
  {
   "cell_type": "code",
   "execution_count": 62,
   "metadata": {},
   "outputs": [],
   "source": [
    "# obtaining data to connect each poi\n",
    "poi_full = df_todict(filtered_poilist, filtered_poilist.columns)\n",
    "data_poi = df_todict(df_combine_poi, [\"Latitude\", \"Longitude\", \"closest_poi\"])"
   ]
  },
  {
   "cell_type": "code",
   "execution_count": 67,
   "metadata": {},
   "outputs": [
    {
     "data": {
      "image/png": "[encoded data removed]",
      "text/plain": [
       "<Figure size 432x288 with 1 Axes>"
      ]
     },
     "metadata": {
      "needs_background": "light"
     },
     "output_type": "display_data"
    }
   ],
   "source": [
    "# full map of all the data and poi\n",
    "\n",
    "plt.xlabel(\"Latitude\")\n",
    "plt.ylabel(\"Longitude\")\n",
    "plt.title(\"Latitude vs Longitude of poi and filtered data\")\n",
    "#plt.axis([40, 55, -125, -50])\n",
    "plt.legend([\"data\", \"poi\"])\n",
    "\n",
    "for pt in poi_full:\n",
    "    for data in data_poi:\n",
    "        \n",
    "        if pt[\"POIID\"] == data[\"closest_poi\"]:\n",
    "            ptx = [data[\"Latitude\"], pt[\" Latitude\"]]\n",
    "            pty = [data[\"Longitude\"], pt[\"Longitude\"]]\n",
    "            \n",
    "            geo3, = plt.plot(ptx, pty, 'y-', label=\"closest poi\")\n",
    "            geo1, = plt.plot(data[\"Latitude\"], data[\"Longitude\"], 'r.', label=\"data\")\n",
    "    \n",
    "    geo2, = plt.plot(pt[\" Latitude\"], pt[\"Longitude\"], 'bo', label=\"poi\")\n",
    "    \n",
    "plt.legend(handles=[geo1, geo2, geo3])\n",
    "plt.show()"
   ]
  },
  {
   "cell_type": "code",
   "execution_count": 68,
   "metadata": {},
   "outputs": [
    {
     "data": {
      "image/png": "[encoded data removed]",
      "text/plain": [
       "<Figure size 432x288 with 1 Axes>"
      ]
     },
     "metadata": {
      "needs_background": "light"
     },
     "output_type": "display_data"
    }
   ],
   "source": [
    "# full map of all the data and poi\n",
    "# the map is zoomed in to get a better visualization since certain points (possible outliers?) cause the map to be stretched\n",
    "\n",
    "plt.xlabel(\"Latitude\")\n",
    "plt.ylabel(\"Longitude\")\n",
    "plt.title(\"Latitude vs Longitude of poi and filtered data [Zoomed into poi!]\")\n",
    "plt.axis([40, 55, -125, -50])\n",
    "plt.legend([\"data\", \"poi\"])\n",
    "\n",
    "for pt in poi_full:\n",
    "    for data in data_poi:\n",
    "        \n",
    "        if pt[\"POIID\"] == data[\"closest_poi\"]:\n",
    "            ptx = [data[\"Latitude\"], pt[\" Latitude\"]]\n",
    "            pty = [data[\"Longitude\"], pt[\"Longitude\"]]\n",
    "            \n",
    "            geo3, = plt.plot(ptx, pty, 'y-', label=\"closest poi\")\n",
    "            geo1, = plt.plot(data[\"Latitude\"], data[\"Longitude\"], 'r.', label=\"data\")\n",
    "    \n",
    "    geo2, = plt.plot(pt[\" Latitude\"], pt[\"Longitude\"], 'bo', label=\"poi\")\n",
    "    \n",
    "plt.legend(handles=[geo1, geo2, geo3])\n",
    "plt.show()"
   ]
  },
  {
   "cell_type": "code",
   "execution_count": 118,
   "metadata": {},
   "outputs": [
    {
     "data": {
      "text/plain": [
       "({'POI1': 11535.44092941355,\n",
       "  'POI4': 9352.507811382198,\n",
       "  'POI3': 1475.043866113338},\n",
       " {'POI1': 2.3268085125691765e-05,\n",
       "  'POI4': 1.7358506130103752e-06,\n",
       "  'POI3': 0.001432995068376566},\n",
       " {'POI1': 240.08129435825484,\n",
       "  'POI4': 106.38557007548393,\n",
       "  'POI3': 19.155364028809714})"
      ]
     },
     "execution_count": 118,
     "metadata": {},
     "output_type": "execute_result"
    }
   ],
   "source": [
    "set_of_max = dict() # gets the maximum distance of each poi to form a radius and resulting circle\n",
    "set_density = dict() # calculates each poi respective density (no_of_requests / area of circle)\n",
    "plot_radius = dict() # collects the radius for each poi (based on the map)\n",
    "\n",
    "distance_data = df_todict(df_combine_poi, [\"Latitude\", \"Longitude\", \"closest_poi\", \"distance_poi\"])\n",
    "\n",
    "for pt in poi_full:\n",
    "    poi_max = 0\n",
    "    dense = 0\n",
    "    \n",
    "    for data in distance_data:\n",
    "        if pt[\"POIID\"] == data[\"closest_poi\"]:\n",
    "            if data[\"distance_poi\"] > poi_max:\n",
    "                poi_max = data[\"distance_poi\"]\n",
    "                lat_max = data[\"Latitude\"]\n",
    "                long_max = data[\"Longitude\"]\n",
    "                \n",
    "    # set the maximum distance from the poi\n",
    "    set_of_max[pt[\"POIID\"]] = poi_max\n",
    "    \n",
    "    # density = no_of_requests / area_of_circle\n",
    "    area = np.pi * (poi_max ** 2)\n",
    "    dense = no_points[pt[\"POIID\"]] / area\n",
    "    set_density[pt[\"POIID\"]] = dense\n",
    "    \n",
    "    # radius between center (poi) to edge of circle (max point)\n",
    "    # since this is a 2d map, distance is measured as x, y coordinates and not harvestine formula (to calculate lat/long dist)\n",
    "    dis = (np.sqrt(((pt[\" Latitude\"] - lat_max) ** 2) + ((pt[\"Longitude\"] - long_max) ** 2)))\n",
    "    plot_radius[pt[\"POIID\"]] = dis\n",
    "    \n",
    "set_of_max, set_density, plot_radius"
   ]
  },
  {
   "cell_type": "code",
   "execution_count": 121,
   "metadata": {},
   "outputs": [
    {
     "data": {
      "image/png": "[encoded data removed]",
      "text/plain": [
       "<Figure size 432x288 with 1 Axes>"
      ]
     },
     "metadata": {
      "needs_background": "light"
     },
     "output_type": "display_data"
    }
   ],
   "source": [
    "# full map of all the data and poi with circle over the poi\n",
    "# using the zoomed in map\n",
    "\n",
    "fig, ax = plt.subplots()\n",
    "plt.xlabel(\"Latitude\")\n",
    "plt.ylabel(\"Longitude\")\n",
    "plt.title(\"Latitude vs Longitude of poi and filtered data [Zoomed into poi!]\")\n",
    "plt.legend([\"data\", \"poi\"])\n",
    "\n",
    "plt.axis([0, 150, -150, 150])\n",
    "for pt in poi_full:\n",
    "    for data in data_poi:\n",
    "        \n",
    "        if pt[\"POIID\"] == data[\"closest_poi\"]:\n",
    "            ptx = [data[\"Latitude\"], pt[\" Latitude\"]]\n",
    "            pty = [data[\"Longitude\"], pt[\"Longitude\"]]\n",
    "            \n",
    "            #geo3, = plt.plot(ptx, pty, 'y-', label=\"closest poi\")\n",
    "            geo1, = plt.plot(data[\"Latitude\"], data[\"Longitude\"], 'r.', label=\"data\")\n",
    "    \n",
    "    geo2, = plt.plot(pt[\" Latitude\"], pt[\"Longitude\"], 'bo', label=\"poi\")\n",
    "    #plt.scatter(pt[\" Latitude\"], pt[\"Longitude\"], s=plot_radius[pt[\"POIID\"]]*400, c=\"yellow\", alpha=0.4)\n",
    "    circle1 = plt.Circle((pt[\" Latitude\"], pt[\"Longitude\"]), radius=plot_radius[pt[\"POIID\"]], color='y', alpha=0.2)\n",
    "    ax.add_artist(circle1)\n",
    "\n",
    "plt.legend(handles=[geo1, geo2, geo3])\n",
    "plt.show()"
   ]
  }
 ],
 "metadata": {
  "kernelspec": {
   "display_name": "Python 3",
   "language": "python",
   "name": "python3"
  },
  "language_info": {
   "codemirror_mode": {
    "name": "ipython",
    "version": 3
   },
   "file_extension": ".py",
   "mimetype": "text/x-python",
   "name": "python",
   "nbconvert_exporter": "python",
   "pygments_lexer": "ipython3",
   "version": "3.6.7"
  }
 },
 "nbformat": 4,
 "nbformat_minor": 4
}
