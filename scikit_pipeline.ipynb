{
 "cells": [
  {
   "cell_type": "code",
   "execution_count": 2,
   "metadata": {},
   "outputs": [],
   "source": [
    "import pandas as pd\n",
    "thedata = pd.read_csv(\"healthdata.csv\")"
   ]
  },
  {
   "cell_type": "code",
   "execution_count": 8,
   "metadata": {},
   "outputs": [],
   "source": [
    "reqdata = thedata.drop('Unnamed: 0', axis=1)"
   ]
  },
  {
   "cell_type": "code",
   "execution_count": 24,
   "metadata": {},
   "outputs": [
    {
     "name": "stdout",
     "output_type": "stream",
     "text": [
      "<class 'pandas.core.frame.DataFrame'>\n",
      "RangeIndex: 3278 entries, 0 to 3277\n",
      "Data columns (total 12 columns):\n",
      "gender              3278 non-null int64\n",
      "income              3278 non-null object\n",
      "education           3278 non-null object\n",
      "smoker              3278 non-null int64\n",
      "height              3278 non-null float64\n",
      "weight              3278 non-null float64\n",
      "diabetes            3278 non-null int64\n",
      "heartrate           3278 non-null int64\n",
      "parents.divorced    3278 non-null int64\n",
      "cholesterol         3278 non-null float64\n",
      "high.bp             3278 non-null int64\n",
      "mile.time           3278 non-null float64\n",
      "dtypes: float64(4), int64(6), object(2)\n",
      "memory usage: 307.4+ KB\n"
     ]
    }
   ],
   "source": [
    "reqdata.info()"
   ]
  },
  {
   "cell_type": "code",
   "execution_count": 29,
   "metadata": {},
   "outputs": [],
   "source": [
    "from sklearn.pipeline import Pipeline\n",
    "from sklearn.impute import SimpleImputer\n",
    "from sklearn.preprocessing import StandardScaler, OneHotEncoder\n",
    "\n",
    "# numeric transformer = standard scaler\n",
    "numeric_transformer = Pipeline(steps=[\n",
    "    ('imputer', SimpleImputer(strategy='median')),\n",
    "    ('scaler', StandardScaler())\n",
    "])\n",
    "\n",
    "# categorical transformer = one hot encoding\n",
    "categorical_transformer = Pipeline(steps=[\n",
    "    ('imputer', SimpleImputer(strategy='constant', fill_value='missing')),\n",
    "    ('onehot', OneHotEncoder(handle_unknown='ignore'))\n",
    "])"
   ]
  },
  {
   "cell_type": "code",
   "execution_count": 33,
   "metadata": {},
   "outputs": [
    {
     "data": {
      "text/plain": [
       "(Index(['gender', 'smoker', 'height', 'weight', 'diabetes', 'heartrate',\n",
       "        'parents.divorced', 'cholesterol', 'high.bp', 'mile.time'],\n",
       "       dtype='object'), Index(['income', 'education'], dtype='object'))"
      ]
     },
     "execution_count": 33,
     "metadata": {},
     "output_type": "execute_result"
    }
   ],
   "source": [
    "# differentiate features between numeric and categorical\n",
    "numeric_features = reqdata.select_dtypes(include=['int64', 'float64']).columns\n",
    "categorical_features = reqdata.select_dtypes(include=['object']).columns\n",
    "\n",
    "from sklearn.compose import ColumnTransformer\n",
    "preprocessor = ColumnTransformer(\n",
    "    transformers=[\n",
    "        ('num', numeric_transformer, numeric_features),\n",
    "        ('cat', categorical_transformer, categorical_features)])\n",
    "\n",
    "numeric_features, categorical_features"
   ]
  },
  {
   "cell_type": "code",
   "execution_count": 31,
   "metadata": {},
   "outputs": [],
   "source": [
    "# create the pipeline that combines the preprocessor with a classifier\n",
    "from sklearn.ensemble import RandomForestClassifier\n",
    "rf = Pipeline(steps=[('preprocessor', preprocessor),\n",
    "                    ('classifier', RandomForestClassifier())])"
   ]
  },
  {
   "cell_type": "code",
   "execution_count": 41,
   "metadata": {},
   "outputs": [
    {
     "data": {
      "text/plain": [
       "((3278, 18), (3278, 12))"
      ]
     },
     "execution_count": 41,
     "metadata": {},
     "output_type": "execute_result"
    }
   ],
   "source": [
    "reqsdata = preprocessor.fit_transform(reqdata)\n",
    "reqsdata.shape, reqdata.shape"
   ]
  },
  {
   "cell_type": "code",
   "execution_count": 45,
   "metadata": {},
   "outputs": [
    {
     "data": {
      "text/html": [
       "<div>\n",
       "<style scoped>\n",
       "    .dataframe tbody tr th:only-of-type {\n",
       "        vertical-align: middle;\n",
       "    }\n",
       "\n",
       "    .dataframe tbody tr th {\n",
       "        vertical-align: top;\n",
       "    }\n",
       "\n",
       "    .dataframe thead th {\n",
       "        text-align: right;\n",
       "    }\n",
       "</style>\n",
       "<table border=\"1\" class=\"dataframe\">\n",
       "  <thead>\n",
       "    <tr style=\"text-align: right;\">\n",
       "      <th></th>\n",
       "      <th>gender</th>\n",
       "      <th>income</th>\n",
       "      <th>education</th>\n",
       "      <th>smoker</th>\n",
       "      <th>height</th>\n",
       "      <th>weight</th>\n",
       "      <th>diabetes</th>\n",
       "      <th>heartrate</th>\n",
       "      <th>parents.divorced</th>\n",
       "      <th>cholesterol</th>\n",
       "      <th>high.bp</th>\n",
       "      <th>mile.time</th>\n",
       "    </tr>\n",
       "  </thead>\n",
       "  <tbody>\n",
       "    <tr>\n",
       "      <th>0</th>\n",
       "      <td>0</td>\n",
       "      <td>&gt;$115,000</td>\n",
       "      <td>undergraduate</td>\n",
       "      <td>0</td>\n",
       "      <td>67.874013</td>\n",
       "      <td>172.491886</td>\n",
       "      <td>0</td>\n",
       "      <td>78</td>\n",
       "      <td>1</td>\n",
       "      <td>141.894491</td>\n",
       "      <td>0</td>\n",
       "      <td>748.935877</td>\n",
       "    </tr>\n",
       "    <tr>\n",
       "      <th>1</th>\n",
       "      <td>1</td>\n",
       "      <td>$90,000-$114,999</td>\n",
       "      <td>undergraduate</td>\n",
       "      <td>0</td>\n",
       "      <td>68.818911</td>\n",
       "      <td>203.118004</td>\n",
       "      <td>0</td>\n",
       "      <td>78</td>\n",
       "      <td>1</td>\n",
       "      <td>143.347814</td>\n",
       "      <td>0</td>\n",
       "      <td>644.690540</td>\n",
       "    </tr>\n",
       "    <tr>\n",
       "      <th>2</th>\n",
       "      <td>1</td>\n",
       "      <td>&lt;$40,000</td>\n",
       "      <td>high school</td>\n",
       "      <td>1</td>\n",
       "      <td>63.273148</td>\n",
       "      <td>189.851102</td>\n",
       "      <td>1</td>\n",
       "      <td>77</td>\n",
       "      <td>1</td>\n",
       "      <td>239.342819</td>\n",
       "      <td>1</td>\n",
       "      <td>651.189118</td>\n",
       "    </tr>\n",
       "    <tr>\n",
       "      <th>3</th>\n",
       "      <td>1</td>\n",
       "      <td>$40,000-$64,999</td>\n",
       "      <td>undergraduate</td>\n",
       "      <td>0</td>\n",
       "      <td>66.665357</td>\n",
       "      <td>184.494927</td>\n",
       "      <td>0</td>\n",
       "      <td>71</td>\n",
       "      <td>0</td>\n",
       "      <td>164.545092</td>\n",
       "      <td>0</td>\n",
       "      <td>621.978640</td>\n",
       "    </tr>\n",
       "    <tr>\n",
       "      <th>4</th>\n",
       "      <td>1</td>\n",
       "      <td>$40,000-$64,999</td>\n",
       "      <td>undergraduate</td>\n",
       "      <td>0</td>\n",
       "      <td>70.236517</td>\n",
       "      <td>200.678982</td>\n",
       "      <td>0</td>\n",
       "      <td>73</td>\n",
       "      <td>1</td>\n",
       "      <td>188.914927</td>\n",
       "      <td>0</td>\n",
       "      <td>640.046249</td>\n",
       "    </tr>\n",
       "  </tbody>\n",
       "</table>\n",
       "</div>"
      ],
      "text/plain": [
       "   gender            income      education  smoker     height      weight  \\\n",
       "0       0         >$115,000  undergraduate       0  67.874013  172.491886   \n",
       "1       1  $90,000-$114,999  undergraduate       0  68.818911  203.118004   \n",
       "2       1          <$40,000    high school       1  63.273148  189.851102   \n",
       "3       1   $40,000-$64,999  undergraduate       0  66.665357  184.494927   \n",
       "4       1   $40,000-$64,999  undergraduate       0  70.236517  200.678982   \n",
       "\n",
       "   diabetes  heartrate  parents.divorced  cholesterol  high.bp   mile.time  \n",
       "0         0         78                 1   141.894491        0  748.935877  \n",
       "1         0         78                 1   143.347814        0  644.690540  \n",
       "2         1         77                 1   239.342819        1  651.189118  \n",
       "3         0         71                 0   164.545092        0  621.978640  \n",
       "4         0         73                 1   188.914927        0  640.046249  "
      ]
     },
     "execution_count": 45,
     "metadata": {},
     "output_type": "execute_result"
    }
   ],
   "source": [
    "reqdata.iloc[:5, :]"
   ]
  },
  {
   "cell_type": "code",
   "execution_count": 46,
   "metadata": {},
   "outputs": [
    {
     "data": {
      "text/plain": [
       "$40,000-$64,999     706\n",
       "$90,000-$114,999    669\n",
       ">$115,000           645\n",
       "<$40,000            635\n",
       "$65,000-$89,999     623\n",
       "Name: income, dtype: int64"
      ]
     },
     "execution_count": 46,
     "metadata": {},
     "output_type": "execute_result"
    }
   ],
   "source": [
    "reqdata['income'].value_counts()"
   ]
  },
  {
   "cell_type": "code",
   "execution_count": 47,
   "metadata": {},
   "outputs": [
    {
     "data": {
      "text/plain": [
       "undergraduate    1141\n",
       "graduate         1121\n",
       "high school      1016\n",
       "Name: education, dtype: int64"
      ]
     },
     "execution_count": 47,
     "metadata": {},
     "output_type": "execute_result"
    }
   ],
   "source": [
    "reqdata['education'].value_counts()"
   ]
  },
  {
   "cell_type": "code",
   "execution_count": 70,
   "metadata": {},
   "outputs": [
    {
     "data": {
      "text/plain": [
       "((3278, 17), (3278,))"
      ]
     },
     "execution_count": 70,
     "metadata": {},
     "output_type": "execute_result"
    }
   ],
   "source": [
    "import numpy as np\n",
    "X = reqsdata[:, 1:]\n",
    "y = np.ceil(reqsdata[:, 0])\n",
    "\n",
    "X.shape, y.shape"
   ]
  },
  {
   "cell_type": "code",
   "execution_count": 71,
   "metadata": {},
   "outputs": [
    {
     "data": {
      "text/plain": [
       "((2622, 17), (656, 17), (2622,), (656,))"
      ]
     },
     "execution_count": 71,
     "metadata": {},
     "output_type": "execute_result"
    }
   ],
   "source": [
    "# split preporcessed data into train and test\n",
    "from sklearn.model_selection import train_test_split\n",
    "\n",
    "X_train, X_test, y_train, y_test = train_test_split(X, y, test_size=0.2)\n",
    "X_train.shape, X_test.shape, y_train.shape, y_test.shape"
   ]
  },
  {
   "cell_type": "code",
   "execution_count": 72,
   "metadata": {},
   "outputs": [
    {
     "name": "stderr",
     "output_type": "stream",
     "text": [
      "C:\\Users\\sunny\\AppData\\Roaming\\Python\\Python36\\site-packages\\sklearn\\ensemble\\forest.py:248: FutureWarning: The default value of n_estimators will change from 10 in version 0.20 to 100 in 0.22.\n",
      "  \"10 in version 0.20 to 100 in 0.22.\", FutureWarning)\n"
     ]
    },
    {
     "data": {
      "text/plain": [
       "RandomForestClassifier(bootstrap=True, class_weight=None, criterion='gini',\n",
       "            max_depth=None, max_features='auto', max_leaf_nodes=None,\n",
       "            min_impurity_decrease=0.0, min_impurity_split=None,\n",
       "            min_samples_leaf=1, min_samples_split=2,\n",
       "            min_weight_fraction_leaf=0.0, n_estimators=10, n_jobs=None,\n",
       "            oob_score=False, random_state=None, verbose=0,\n",
       "            warm_start=False)"
      ]
     },
     "execution_count": 72,
     "metadata": {},
     "output_type": "execute_result"
    }
   ],
   "source": [
    "# train the random forest classifier\n",
    "rfx = RandomForestClassifier()\n",
    "rfx.fit(X_train, y_train)"
   ]
  },
  {
   "cell_type": "code",
   "execution_count": 84,
   "metadata": {},
   "outputs": [],
   "source": [
    "# test the random forest classifier\n",
    "rfx_test = rfx.predict(X_test)"
   ]
  },
  {
   "cell_type": "code",
   "execution_count": 85,
   "metadata": {},
   "outputs": [
    {
     "name": "stdout",
     "output_type": "stream",
     "text": [
      "Mis prediction:  -1.0 1.0\n",
      "Mis prediction:  -1.0 1.0\n",
      "Mis prediction:  -1.0 1.0\n",
      "Mis prediction:  -1.0 1.0\n",
      "Mis prediction:  -1.0 1.0\n",
      "Mis prediction:  -1.0 1.0\n",
      "Mis prediction:  1.0 -1.0\n",
      "Mis prediction:  1.0 -1.0\n",
      "Mis prediction:  1.0 -1.0\n",
      "Mis prediction:  -1.0 1.0\n",
      "Mis prediction:  -1.0 1.0\n",
      "Total error:  22.0\n",
      "No. of errors:  11\n",
      "Accuracy:  98.32317073170732\n"
     ]
    }
   ],
   "source": [
    "# custom built metrics\n",
    "sse = 0\n",
    "ec = 0\n",
    "\n",
    "for pred, expect in zip(rfx_test, y_test):\n",
    "    ce = np.sqrt((pred - expect)**2)\n",
    "    sse += ce\n",
    "    if ce > 0:\n",
    "        ec += 1\n",
    "        print(\"Mis prediction: \", pred, expect)\n",
    "print(\"Total error: \", sse)\n",
    "print(\"No. of errors: \", ec)\n",
    "print(\"Accuracy: \", ((y_test.shape[0] - ec) / y_test.shape[0]))"
   ]
  },
  {
   "cell_type": "code",
   "execution_count": 96,
   "metadata": {},
   "outputs": [
    {
     "data": {
      "text/plain": [
       "(0.9832317073170732, 0.5791599681955926, 0.5603688966029817, (656,))"
      ]
     },
     "execution_count": 96,
     "metadata": {},
     "output_type": "execute_result"
    }
   ],
   "source": [
    "# using scikit learn metrics to measure model accuracy\n",
    "from sklearn.metrics import accuracy_score, log_loss\n",
    "import math\n",
    "\n",
    "sci_accur = accuracy_score(rfx_test, y_test)\n",
    "sci_logl = log_loss(y_test, rfx_test)\n",
    "sci_accur, sci_logl, math.exp(-sci_logl), y_test.shape"
   ]
  },
  {
   "cell_type": "code",
   "execution_count": 111,
   "metadata": {},
   "outputs": [
    {
     "data": {
      "text/plain": [
       "((656,), 9.343655774847901, (656,), (656,))"
      ]
     },
     "execution_count": 111,
     "metadata": {},
     "output_type": "execute_result"
    }
   ],
   "source": [
    "# testing log loss\n",
    "rander = np.arange(-1.0, 1.0, 1/y_test.shape[0]*2).reshape(y_test.shape)\n",
    "rander_logl = log_loss(y_test, rander)\n",
    "rander.shape, rander_logl, y_test.shape, rfx_test.shape"
   ]
  },
  {
   "cell_type": "code",
   "execution_count": 114,
   "metadata": {},
   "outputs": [
    {
     "data": {
      "text/plain": [
       "0.9664634146341463"
      ]
     },
     "execution_count": 114,
     "metadata": {},
     "output_type": "execute_result"
    }
   ],
   "source": [
    "dotpro = np.dot(y_test, rfx_test)\n",
    "mody = np.linalg.norm(y_test)\n",
    "modrfx = np.linalg.norm(rfx_test)\n",
    "cosi = dotpro / (mody * modrfx)\n",
    "cosi"
   ]
  },
  {
   "cell_type": "code",
   "execution_count": 129,
   "metadata": {},
   "outputs": [
    {
     "name": "stderr",
     "output_type": "stream",
     "text": [
      "C:\\Users\\sunny\\AppData\\Roaming\\Python\\Python36\\site-packages\\sklearn\\model_selection\\_split.py:1943: FutureWarning: You should specify a value for 'cv' instead of relying on the default value. The default value will change from 3 to 5 in version 0.22.\n",
      "  warnings.warn(CV_WARNING, FutureWarning)\n"
     ]
    },
    {
     "name": "stdout",
     "output_type": "stream",
     "text": [
      "{'criterion': 'gini', 'max_depth': 5, 'max_features': 'auto', 'n_estimators': 20}\n",
      "0.9916094584286804\n"
     ]
    }
   ],
   "source": [
    "# testing model parameters with grid search\n",
    "param_grid = { \n",
    "    'n_estimators': [20, 50],\n",
    "    'max_features': ['auto', 'sqrt', 'log2'],\n",
    "    'max_depth' : [2,3,4,5,6],\n",
    "    'criterion' :['gini', 'entropy']}\n",
    "\n",
    "from sklearn.model_selection import GridSearchCV\n",
    "CV = GridSearchCV(rfx, param_grid, n_jobs=4)\n",
    "                  \n",
    "CV.fit(X_train, y_train)  \n",
    "print(CV.best_params_)    \n",
    "print(CV.best_score_)"
   ]
  },
  {
   "cell_type": "code",
   "execution_count": 119,
   "metadata": {},
   "outputs": [
    {
     "data": {
      "text/plain": [
       "dict_keys(['bootstrap', 'class_weight', 'criterion', 'max_depth', 'max_features', 'max_leaf_nodes', 'min_impurity_decrease', 'min_impurity_split', 'min_samples_leaf', 'min_samples_split', 'min_weight_fraction_leaf', 'n_estimators', 'n_jobs', 'oob_score', 'random_state', 'verbose', 'warm_start'])"
      ]
     },
     "execution_count": 119,
     "metadata": {},
     "output_type": "execute_result"
    }
   ],
   "source": [
    "RandomForestClassifier.get_params(rfx).keys()"
   ]
  },
  {
   "cell_type": "code",
   "execution_count": 120,
   "metadata": {},
   "outputs": [
    {
     "data": {
      "text/plain": [
       "dict_values([True, None, 'gini', None, 'auto', None, 0.0, None, 1, 2, 0.0, 10, None, False, None, 0, False])"
      ]
     },
     "execution_count": 120,
     "metadata": {},
     "output_type": "execute_result"
    }
   ],
   "source": [
    "RandomForestClassifier.get_params(rfx).values()"
   ]
  },
  {
   "cell_type": "code",
   "execution_count": 126,
   "metadata": {},
   "outputs": [
    {
     "data": {
      "text/plain": [
       "RandomForestClassifier(bootstrap=True, class_weight=None, criterion='entropy',\n",
       "            max_depth=6, max_features='auto', max_leaf_nodes=None,\n",
       "            min_impurity_decrease=0.0, min_impurity_split=None,\n",
       "            min_samples_leaf=1, min_samples_split=2,\n",
       "            min_weight_fraction_leaf=0.0, n_estimators=50, n_jobs=None,\n",
       "            oob_score=False, random_state=None, verbose=0,\n",
       "            warm_start=False)"
      ]
     },
     "execution_count": 126,
     "metadata": {},
     "output_type": "execute_result"
    }
   ],
   "source": [
    "# creating the \"best model\" and testing it\n",
    "rfx2 = RandomForestClassifier(criterion='entropy', max_depth=6, max_features='auto', n_estimators=50)\n",
    "rfx2.fit(X_train, y_train)"
   ]
  },
  {
   "cell_type": "code",
   "execution_count": 128,
   "metadata": {},
   "outputs": [
    {
     "data": {
      "text/plain": [
       "(0.9878048780487805, 0.4212119035729684)"
      ]
     },
     "execution_count": 128,
     "metadata": {},
     "output_type": "execute_result"
    }
   ],
   "source": [
    "b_pred = rfx2.predict(X_test)\n",
    "b_accu = accuracy_score(b_pred, y_test)\n",
    "b_logl = log_loss(b_pred, y_test)\n",
    "b_accu, b_logl"
   ]
  }
 ],
 "metadata": {
  "kernelspec": {
   "display_name": "Python 3",
   "language": "python",
   "name": "python3"
  },
  "language_info": {
   "codemirror_mode": {
    "name": "ipython",
    "version": 3
   },
   "file_extension": ".py",
   "mimetype": "text/x-python",
   "name": "python",
   "nbconvert_exporter": "python",
   "pygments_lexer": "ipython3",
   "version": "3.6.7"
  }
 },
 "nbformat": 4,
 "nbformat_minor": 2
}
